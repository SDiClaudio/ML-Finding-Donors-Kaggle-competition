{
 "cells": [
  {
   "cell_type": "markdown",
   "metadata": {},
   "source": [
    "# **Introduction**\n",
    "\n",
    "In this project I will apply supervised machine learning techniques on the US census data to help a fictitious charity organization(CharityML) identify people most likely to donate to their cause.\n",
    "Firstly I will perform some preprocessing transformations in order to  to manipulate the data into a workable format. Next, I will evaluate few algorithms of on the data, and consider which is best suited for the solution. Afterwards, I will optimize the selected model and present it as my solution to CharityML.\n",
    "\n",
    "The success of the model will be determined based on the model's AUC or area under the curve associated with ROC curves."
   ]
  },
  {
   "cell_type": "code",
   "execution_count": null,
   "metadata": {
    "execution": {
     "iopub.execute_input": "2021-11-22T10:55:08.337237Z",
     "iopub.status.busy": "2021-11-22T10:55:08.33675Z",
     "iopub.status.idle": "2021-11-22T10:55:11.452371Z",
     "shell.execute_reply": "2021-11-22T10:55:11.4515Z",
     "shell.execute_reply.started": "2021-11-22T10:55:08.337189Z"
    }
   },
   "outputs": [],
   "source": [
    "# importing the necessary libraries\n",
    "\n",
    "import time\n",
    "import pandas as pd\n",
    "import numpy as np\n",
    "import seaborn as sns\n",
    "import matplotlib.pyplot as plt\n",
    "%matplotlib inline\n",
    "\n",
    "from sklearn.preprocessing import MinMaxScaler\n",
    "from sklearn.model_selection import train_test_split\n",
    "\n",
    "from imblearn.over_sampling import SMOTE\n",
    "\n",
    "from sklearn.ensemble import RandomForestClassifier, AdaBoostClassifier, VotingClassifier\n",
    "from sklearn.tree import DecisionTreeClassifier\n",
    "from sklearn.svm import SVC\n",
    "\n",
    "import xgboost as xgb\n",
    "\n",
    "import optuna\n",
    "\n",
    "from sklearn.metrics import accuracy_score, precision_score,recall_score,confusion_matrix, roc_auc_score"
   ]
  },
  {
   "cell_type": "code",
   "execution_count": null,
   "metadata": {
    "execution": {
     "iopub.execute_input": "2021-11-22T10:55:11.45473Z",
     "iopub.status.busy": "2021-11-22T10:55:11.454344Z",
     "iopub.status.idle": "2021-11-22T10:55:11.463926Z",
     "shell.execute_reply": "2021-11-22T10:55:11.462733Z",
     "shell.execute_reply.started": "2021-11-22T10:55:11.454691Z"
    }
   },
   "outputs": [],
   "source": [
    "START = time.time()"
   ]
  },
  {
   "cell_type": "code",
   "execution_count": null,
   "metadata": {
    "execution": {
     "iopub.execute_input": "2021-11-22T10:55:11.466309Z",
     "iopub.status.busy": "2021-11-22T10:55:11.465661Z",
     "iopub.status.idle": "2021-11-22T10:55:11.664401Z",
     "shell.execute_reply": "2021-11-22T10:55:11.663518Z",
     "shell.execute_reply.started": "2021-11-22T10:55:11.46627Z"
    }
   },
   "outputs": [],
   "source": [
    "df=pd.read_csv('../input/udacity-mlcharity-competition/census.csv')\n",
    "df.head()"
   ]
  },
  {
   "cell_type": "markdown",
   "metadata": {},
   "source": [
    "## Training Data Exploration"
   ]
  },
  {
   "cell_type": "code",
   "execution_count": null,
   "metadata": {
    "execution": {
     "iopub.execute_input": "2021-11-22T10:55:11.666177Z",
     "iopub.status.busy": "2021-11-22T10:55:11.665841Z",
     "iopub.status.idle": "2021-11-22T10:55:11.718665Z",
     "shell.execute_reply": "2021-11-22T10:55:11.717745Z",
     "shell.execute_reply.started": "2021-11-22T10:55:11.666141Z"
    }
   },
   "outputs": [],
   "source": [
    "df.info()"
   ]
  },
  {
   "cell_type": "markdown",
   "metadata": {},
   "source": [
    "The training data does not contains missing values. It consist of a mix of categorical and numerical features."
   ]
  },
  {
   "cell_type": "code",
   "execution_count": null,
   "metadata": {
    "execution": {
     "iopub.execute_input": "2021-11-22T10:55:11.7231Z",
     "iopub.status.busy": "2021-11-22T10:55:11.722821Z",
     "iopub.status.idle": "2021-11-22T10:55:11.739549Z",
     "shell.execute_reply": "2021-11-22T10:55:11.738717Z",
     "shell.execute_reply.started": "2021-11-22T10:55:11.723071Z"
    }
   },
   "outputs": [],
   "source": [
    "# checking the label column value distribution\n",
    "\n",
    "df.income.value_counts()"
   ]
  },
  {
   "cell_type": "markdown",
   "metadata": {},
   "source": [
    "The target column has a significant imbalance in favor of the <=50K class, which will compromise the model training especially for the lower rapresented class.\n",
    "In order to overcome this problem I can try the following:\n",
    "* Use learners capable of dealing with inbalances (i.e. XGBoost)\n",
    "* Use oversampling techniques such us SMOTE to create an omogeneous trainig dataset"
   ]
  },
  {
   "cell_type": "code",
   "execution_count": null,
   "metadata": {
    "execution": {
     "iopub.execute_input": "2021-11-22T10:55:11.743269Z",
     "iopub.status.busy": "2021-11-22T10:55:11.742906Z",
     "iopub.status.idle": "2021-11-22T10:55:11.78218Z",
     "shell.execute_reply": "2021-11-22T10:55:11.781511Z",
     "shell.execute_reply.started": "2021-11-22T10:55:11.743231Z"
    }
   },
   "outputs": [],
   "source": [
    "# Replacing the income col values for labels.\n",
    "\n",
    "df.income.replace({'<=50K':0,'>50K':1}, inplace=True)\n",
    "\n",
    "features = df.drop(columns=['income'])\n",
    "label = df['income']"
   ]
  },
  {
   "cell_type": "markdown",
   "metadata": {},
   "source": [
    "### Numerical features"
   ]
  },
  {
   "cell_type": "code",
   "execution_count": null,
   "metadata": {
    "execution": {
     "iopub.execute_input": "2021-11-22T10:55:11.78358Z",
     "iopub.status.busy": "2021-11-22T10:55:11.783245Z",
     "iopub.status.idle": "2021-11-22T10:55:12.799616Z",
     "shell.execute_reply": "2021-11-22T10:55:12.798021Z",
     "shell.execute_reply.started": "2021-11-22T10:55:11.783542Z"
    }
   },
   "outputs": [],
   "source": [
    "numerical = ['age', 'education-num', 'capital-gain', 'capital-loss', 'hours-per-week']\n",
    "\n",
    "for col in numerical:\n",
    "    print('\\n')\n",
    "    plt.hist(df[col])\n",
    "    plt.title(col)\n",
    "    plt.show()\n",
    "    print(col + ' skewness: ',df[col].skew())"
   ]
  },
  {
   "cell_type": "markdown",
   "metadata": {},
   "source": [
    "As shown by the plots and by the skewness value, *capital-gain* and *capital-loss* are highly skewed.\n",
    "In this cases, using a logarithmic transformation significantly reduces the range of values caused by outliers,so that the very large and very small values do not negatively affect the performance of a learning algorithm. However, I must transoform the values by a small amount above 0 due to the fact that the logarithm of 0 is undefined."
   ]
  },
  {
   "cell_type": "code",
   "execution_count": null,
   "metadata": {
    "execution": {
     "iopub.execute_input": "2021-11-22T10:55:12.80234Z",
     "iopub.status.busy": "2021-11-22T10:55:12.801367Z",
     "iopub.status.idle": "2021-11-22T10:55:12.816865Z",
     "shell.execute_reply": "2021-11-22T10:55:12.815863Z",
     "shell.execute_reply.started": "2021-11-22T10:55:12.802297Z"
    }
   },
   "outputs": [],
   "source": [
    "# Log-transformation of the skewed features\n",
    "\n",
    "skewed = ['capital-gain', 'capital-loss']\n",
    "\n",
    "features_log = features\n",
    "features_log[skewed] = features[skewed].apply(lambda x: np.log(x+1))"
   ]
  },
  {
   "cell_type": "code",
   "execution_count": null,
   "metadata": {
    "execution": {
     "iopub.execute_input": "2021-11-22T10:55:12.819809Z",
     "iopub.status.busy": "2021-11-22T10:55:12.819563Z",
     "iopub.status.idle": "2021-11-22T10:55:12.886604Z",
     "shell.execute_reply": "2021-11-22T10:55:12.885847Z",
     "shell.execute_reply.started": "2021-11-22T10:55:12.819784Z"
    }
   },
   "outputs": [],
   "source": [
    "# Normalization of the numerical features\n",
    "scl = MinMaxScaler()\n",
    "features_scaled = features_log\n",
    "features_scaled[numerical] = scl.fit_transform(features_log[numerical])"
   ]
  },
  {
   "cell_type": "markdown",
   "metadata": {},
   "source": [
    "### Categorical features"
   ]
  },
  {
   "cell_type": "code",
   "execution_count": null,
   "metadata": {
    "execution": {
     "iopub.execute_input": "2021-11-22T10:55:12.888794Z",
     "iopub.status.busy": "2021-11-22T10:55:12.888281Z",
     "iopub.status.idle": "2021-11-22T10:55:12.946015Z",
     "shell.execute_reply": "2021-11-22T10:55:12.945293Z",
     "shell.execute_reply.started": "2021-11-22T10:55:12.888756Z"
    }
   },
   "outputs": [],
   "source": [
    "#One-Hot-Encoding of the categorical features\n",
    "\n",
    "features_final = pd.get_dummies(features_scaled)"
   ]
  },
  {
   "cell_type": "code",
   "execution_count": null,
   "metadata": {
    "execution": {
     "iopub.execute_input": "2021-11-22T10:55:12.948824Z",
     "iopub.status.busy": "2021-11-22T10:55:12.948276Z",
     "iopub.status.idle": "2021-11-22T10:55:12.975576Z",
     "shell.execute_reply": "2021-11-22T10:55:12.974746Z",
     "shell.execute_reply.started": "2021-11-22T10:55:12.948783Z"
    }
   },
   "outputs": [],
   "source": [
    "features_final"
   ]
  },
  {
   "cell_type": "markdown",
   "metadata": {},
   "source": [
    "# Kaggle Test"
   ]
  },
  {
   "cell_type": "markdown",
   "metadata": {},
   "source": [
    "Now I take a look at the Kaggle test set"
   ]
  },
  {
   "cell_type": "code",
   "execution_count": null,
   "metadata": {
    "execution": {
     "iopub.execute_input": "2021-11-22T10:55:12.977641Z",
     "iopub.status.busy": "2021-11-22T10:55:12.977258Z",
     "iopub.status.idle": "2021-11-22T10:55:13.151887Z",
     "shell.execute_reply": "2021-11-22T10:55:13.151087Z",
     "shell.execute_reply.started": "2021-11-22T10:55:12.977602Z"
    }
   },
   "outputs": [],
   "source": [
    "kaggle = pd.read_csv('../input/udacity-mlcharity-competition/test_census.csv')"
   ]
  },
  {
   "cell_type": "code",
   "execution_count": null,
   "metadata": {
    "execution": {
     "iopub.execute_input": "2021-11-22T10:55:13.153547Z",
     "iopub.status.busy": "2021-11-22T10:55:13.153178Z",
     "iopub.status.idle": "2021-11-22T10:55:13.200997Z",
     "shell.execute_reply": "2021-11-22T10:55:13.200141Z",
     "shell.execute_reply.started": "2021-11-22T10:55:13.153507Z"
    }
   },
   "outputs": [],
   "source": [
    "kaggle.info()"
   ]
  },
  {
   "cell_type": "markdown",
   "metadata": {},
   "source": [
    "Upon inspection of the kaggle test data, I found an extra field named *Unamed: 0* and also that every other features contains missing values.\n",
    "I will now proceed in dropping the extra column and filling the missing values with the training dataset most frequent value for that same column.\n",
    "\n",
    "Afterwards, I will apply the same trasformations for both numerical and categorical features accordingly utilized in the training data."
   ]
  },
  {
   "cell_type": "code",
   "execution_count": null,
   "metadata": {
    "execution": {
     "iopub.execute_input": "2021-11-22T10:55:13.202796Z",
     "iopub.status.busy": "2021-11-22T10:55:13.202312Z",
     "iopub.status.idle": "2021-11-22T10:55:13.237194Z",
     "shell.execute_reply": "2021-11-22T10:55:13.236345Z",
     "shell.execute_reply.started": "2021-11-22T10:55:13.202756Z"
    }
   },
   "outputs": [],
   "source": [
    "# dropping the extra column\n",
    "\n",
    "kaggle.drop(columns=['Unnamed: 0'], inplace=True)\n",
    "kaggle"
   ]
  },
  {
   "cell_type": "code",
   "execution_count": null,
   "metadata": {
    "execution": {
     "iopub.execute_input": "2021-11-22T10:55:13.238801Z",
     "iopub.status.busy": "2021-11-22T10:55:13.238487Z",
     "iopub.status.idle": "2021-11-22T10:55:13.325467Z",
     "shell.execute_reply": "2021-11-22T10:55:13.324616Z",
     "shell.execute_reply.started": "2021-11-22T10:55:13.238772Z"
    }
   },
   "outputs": [],
   "source": [
    "for col in kaggle.columns:\n",
    "    kaggle[col].fillna(features[col].mode()[0], inplace=True)"
   ]
  },
  {
   "cell_type": "code",
   "execution_count": null,
   "metadata": {
    "execution": {
     "iopub.execute_input": "2021-11-22T10:55:13.327201Z",
     "iopub.status.busy": "2021-11-22T10:55:13.326804Z",
     "iopub.status.idle": "2021-11-22T10:55:13.334205Z",
     "shell.execute_reply": "2021-11-22T10:55:13.333266Z",
     "shell.execute_reply.started": "2021-11-22T10:55:13.327161Z"
    },
    "scrolled": true
   },
   "outputs": [],
   "source": [
    "'''for col in kaggle.columns:\n",
    "\n",
    "    kaggle[col].fillna(kaggle[col].mode()[0], inplace=True)'''"
   ]
  },
  {
   "cell_type": "code",
   "execution_count": null,
   "metadata": {
    "execution": {
     "iopub.execute_input": "2021-11-22T10:55:13.33617Z",
     "iopub.status.busy": "2021-11-22T10:55:13.335649Z",
     "iopub.status.idle": "2021-11-22T10:55:13.454581Z",
     "shell.execute_reply": "2021-11-22T10:55:13.453838Z",
     "shell.execute_reply.started": "2021-11-22T10:55:13.336129Z"
    }
   },
   "outputs": [],
   "source": [
    "# Applying the same transformations used in the training data\n",
    "\n",
    "skewed = ['capital-gain', 'capital-loss']\n",
    "numerical = ['age', 'education-num', 'capital-gain', 'capital-loss', 'hours-per-week']\n",
    "\n",
    "# Log-transformation of the skewed featurez\n",
    "featurez_log = kaggle\n",
    "featurez_log[skewed] = featurez_log[skewed].apply(lambda x: np.log(x+1))\n",
    "\n",
    "# Applying the scaler to the featurez\n",
    "featurez_scaled = featurez_log\n",
    "featurez_scaled[numerical] = scl.fit_transform(featurez_log[numerical])\n",
    "\n",
    "# OneHotEncoding of the categorical features\n",
    "featurez_final = pd.get_dummies(featurez_scaled)"
   ]
  },
  {
   "cell_type": "markdown",
   "metadata": {},
   "source": [
    "# Modeling"
   ]
  },
  {
   "cell_type": "code",
   "execution_count": null,
   "metadata": {
    "execution": {
     "iopub.execute_input": "2021-11-22T10:55:13.456431Z",
     "iopub.status.busy": "2021-11-22T10:55:13.456025Z",
     "iopub.status.idle": "2021-11-22T10:55:13.479216Z",
     "shell.execute_reply": "2021-11-22T10:55:13.478483Z",
     "shell.execute_reply.started": "2021-11-22T10:55:13.456381Z"
    }
   },
   "outputs": [],
   "source": [
    "# Split the 'features' and 'income' data into training and testing sets\n",
    "X_train, X_val, y_train, y_val = train_test_split(features_final, \n",
    "                                                    label, \n",
    "                                                    test_size = 0.2)"
   ]
  },
  {
   "cell_type": "code",
   "execution_count": null,
   "metadata": {
    "execution": {
     "iopub.execute_input": "2021-11-22T10:55:13.481313Z",
     "iopub.status.busy": "2021-11-22T10:55:13.480813Z",
     "iopub.status.idle": "2021-11-22T10:55:13.491361Z",
     "shell.execute_reply": "2021-11-22T10:55:13.49029Z",
     "shell.execute_reply.started": "2021-11-22T10:55:13.481272Z"
    }
   },
   "outputs": [],
   "source": [
    "# calculating the pos_weight value for xgboost\n",
    "\n",
    "pos_weight = round((df.income.value_counts()[0])/(df.income.value_counts()[1]))\n",
    "pos_weight"
   ]
  },
  {
   "cell_type": "code",
   "execution_count": null,
   "metadata": {
    "execution": {
     "iopub.execute_input": "2021-11-22T10:55:13.493571Z",
     "iopub.status.busy": "2021-11-22T10:55:13.49309Z",
     "iopub.status.idle": "2021-11-22T10:55:20.163442Z",
     "shell.execute_reply": "2021-11-22T10:55:20.16254Z",
     "shell.execute_reply.started": "2021-11-22T10:55:13.493533Z"
    }
   },
   "outputs": [],
   "source": [
    "# Applying SMOTE to the training set in order to resolve the target variable values inbalance\n",
    "\n",
    "sm = SMOTE()\n",
    "X_train, y_train = sm.fit_resample(X_train,y_train)\n",
    "\n",
    "y_train.value_counts()"
   ]
  },
  {
   "cell_type": "markdown",
   "metadata": {},
   "source": [
    "It is now time to run few learners on the training data in order to compare their performances. \n",
    "I will test the performance of four learners: AdaBoost, RandomForest, XGBoost and SVM.\n",
    "I will then create a voting model with the best three in order to create the predictions for the submission."
   ]
  },
  {
   "cell_type": "code",
   "execution_count": null,
   "metadata": {
    "execution": {
     "iopub.execute_input": "2021-11-22T10:55:20.165139Z",
     "iopub.status.busy": "2021-11-22T10:55:20.164769Z",
     "iopub.status.idle": "2021-11-22T10:55:20.17236Z",
     "shell.execute_reply": "2021-11-22T10:55:20.171511Z",
     "shell.execute_reply.started": "2021-11-22T10:55:20.165087Z"
    }
   },
   "outputs": [],
   "source": [
    "# Initializing the learners\n",
    "\n",
    "ada = AdaBoostClassifier(base_estimator=DecisionTreeClassifier())\n",
    "rf = RandomForestClassifier()\n",
    "xgb_boost = xgb.XGBClassifier(eval_metric='logloss', tree_method='gpu_hist')\n",
    "svm = SVC(probability=True)\n",
    "\n",
    "clf_list = [ada, rf, xgb_boost,svm]\n",
    "clf_names = ['AdaBoost', 'Random Forest', 'XGBoost','SVM']"
   ]
  },
  {
   "cell_type": "code",
   "execution_count": null,
   "metadata": {
    "execution": {
     "iopub.execute_input": "2021-11-22T10:55:20.174252Z",
     "iopub.status.busy": "2021-11-22T10:55:20.173874Z",
     "iopub.status.idle": "2021-11-22T11:20:14.037224Z",
     "shell.execute_reply": "2021-11-22T11:20:14.036083Z",
     "shell.execute_reply.started": "2021-11-22T10:55:20.174213Z"
    }
   },
   "outputs": [],
   "source": [
    "start_time = time.time()\n",
    "\n",
    "results = {'Algorithm' : 'xxx',\n",
    "      'Accuracy':'xxx',\n",
    "      'Precision':'xxx',\n",
    "      'Recall':'xxx'}\n",
    "\n",
    "results = pd.DataFrame(results, index=[0])\n",
    "\n",
    "for n, clf in enumerate(clf_list):\n",
    "    \n",
    "    clf.fit(X_train, y_train)\n",
    "    y_preds = clf.predict(X_val)\n",
    "    y_pred_probs = clf.predict_proba(X_val)[:,1]\n",
    "    \n",
    "    rw = {'Algorithm' : clf_names[n],\n",
    "          'Accuracy':accuracy_score(y_val, y_preds),\n",
    "          'Precision':precision_score(y_val, y_preds),\n",
    "          'Recall':recall_score(y_val, y_preds), \n",
    "          'ROC':roc_auc_score(y_val,y_pred_probs)}\n",
    "    \n",
    "    rw = pd.DataFrame(rw, index=[0])\n",
    "    results = pd.concat([results,rw])\n",
    "    \n",
    "    print('\\n\\n')\n",
    "    print(clf_names[n] + ' Confusion Matrix')\n",
    "    print(confusion_matrix(y_val, y_preds))\n",
    "    \n",
    "\n",
    "end_time = time.time()\n",
    "print('\\n',time.strftime(\"%Hh%Mm%Ss\", time.gmtime((end_time-start_time))))"
   ]
  },
  {
   "cell_type": "code",
   "execution_count": null,
   "metadata": {
    "execution": {
     "iopub.execute_input": "2021-11-22T11:20:14.03968Z",
     "iopub.status.busy": "2021-11-22T11:20:14.039027Z",
     "iopub.status.idle": "2021-11-22T11:20:14.053905Z",
     "shell.execute_reply": "2021-11-22T11:20:14.052907Z",
     "shell.execute_reply.started": "2021-11-22T11:20:14.039639Z"
    }
   },
   "outputs": [],
   "source": [
    "results = results.iloc[1:]\n",
    "results"
   ]
  },
  {
   "cell_type": "code",
   "execution_count": null,
   "metadata": {
    "execution": {
     "iopub.execute_input": "2021-11-22T11:20:14.056361Z",
     "iopub.status.busy": "2021-11-22T11:20:14.055924Z",
     "iopub.status.idle": "2021-11-22T11:20:14.47959Z",
     "shell.execute_reply": "2021-11-22T11:20:14.478731Z",
     "shell.execute_reply.started": "2021-11-22T11:20:14.056317Z"
    }
   },
   "outputs": [],
   "source": [
    "# Viszualizing  model performaces\n",
    "\n",
    "fig,(ax1,ax2,ax3,ax4) = plt.subplots(1,4,figsize=(20,8))\n",
    "\n",
    "ax1.bar(x=results['Algorithm'], height=results['Precision'])\n",
    "ax1.title.set_text('Precision')\n",
    "ax1.tick_params(axis='x', rotation=45)\n",
    "ax2.bar(x=results['Algorithm'], height=results['Recall'])\n",
    "ax2.title.set_text('Recall')\n",
    "ax2.tick_params(axis='x', rotation=45)\n",
    "ax3.bar(x=results['Algorithm'], height=results['Accuracy'])\n",
    "ax3.title.set_text('Accuracy')\n",
    "ax3.tick_params(axis='x', rotation=45)\n",
    "ax4.bar(x=results['Algorithm'], height=results['ROC'])\n",
    "ax4.title.set_text('ROC AUC score')\n",
    "ax4.tick_params(axis='x', rotation=45);"
   ]
  },
  {
   "cell_type": "markdown",
   "metadata": {},
   "source": [
    "* **XGBoost:** is the best perfoming learner overall\n",
    "* **AdaBoost:** has a better performance for the recall than the precision. Good also the ROC value\n",
    "* **RandomForest:** is the second best performing learner overall. Similar scores to AdaBoost, just a tiny better\n",
    "* **SVM:** the best recall score of the four learners, but the worse precision.Good value for the ROC, however the training takes significantly more time."
   ]
  },
  {
   "cell_type": "markdown",
   "metadata": {},
   "source": [
    "In order to carry out the voting between the best three performers, I create a function which averages the output of the three learners. Taking the average is important as I will use predict_proba() instead of predict(). The former is a more accurate way of predicting when the evaluation metric is the AUC or area under the curve associated with ROC curves."
   ]
  },
  {
   "cell_type": "code",
   "execution_count": null,
   "metadata": {
    "execution": {
     "iopub.execute_input": "2021-11-22T11:20:14.481645Z",
     "iopub.status.busy": "2021-11-22T11:20:14.481278Z",
     "iopub.status.idle": "2021-11-22T11:20:14.494519Z",
     "shell.execute_reply": "2021-11-22T11:20:14.493437Z",
     "shell.execute_reply.started": "2021-11-22T11:20:14.481607Z"
    }
   },
   "outputs": [],
   "source": [
    "def voting_predictor(clf_1,clf_2, clf_3,cols_names,file_name):\n",
    "    \n",
    "    y1_pred = clf_1.predict_proba(featurez_final)[:,1].reshape(featurez_final.shape[0],1)\n",
    "    y2_pred = clf_2.predict_proba(featurez_final)[:,1].reshape(featurez_final.shape[0],1)\n",
    "    y3_pred = clf_3.predict_proba(featurez_final)[:,1].reshape(featurez_final.shape[0],1)\n",
    "    \n",
    "    y_pred = pd.DataFrame(np.concatenate([y1_pred,y2_pred,y3_pred], axis=1),columns=cols_names)\n",
    "    y_pred = y_pred.mean(axis=1, numeric_only=True).reset_index()\n",
    "    y_pred.columns = ['id','income']\n",
    "    \n",
    "    y_pred.to_csv(file_name, index=False)\n",
    "  \n",
    "\n",
    "    \n",
    "    y1_pred_test = clf_1.predict_proba(X_val)[:,1].reshape(X_val.shape[0],1)\n",
    "    y2_pred_test = clf_2.predict_proba(X_val)[:,1].reshape(X_val.shape[0],1)\n",
    "    y3_pred_test = clf_3.predict_proba(X_val)[:,1].reshape(X_val.shape[0],1)\n",
    "    \n",
    "    y_pred_test = pd.DataFrame(np.concatenate([y1_pred_test,y2_pred_test,y3_pred_test], axis=1),columns=cols_names)\n",
    "    y_pred_test = y_pred_test.mean(axis=1, numeric_only=True)\n",
    "    \n",
    "    print('\\n',roc_auc_score(y_val,y_pred_test))\n",
    "    \n",
    "    return print('DONE!')"
   ]
  },
  {
   "cell_type": "markdown",
   "metadata": {},
   "source": [
    "# XGBoost Optimization\n",
    "\n",
    "I now carry out the optimization of the learners using Optuna and ROC as scoring metric."
   ]
  },
  {
   "cell_type": "markdown",
   "metadata": {},
   "source": [
    "**Optuna SearchCV**\n",
    "\n"
   ]
  },
  {
   "cell_type": "code",
   "execution_count": null,
   "metadata": {
    "execution": {
     "iopub.execute_input": "2021-11-22T11:20:14.496342Z",
     "iopub.status.busy": "2021-11-22T11:20:14.495837Z",
     "iopub.status.idle": "2021-11-22T11:20:14.506619Z",
     "shell.execute_reply": "2021-11-22T11:20:14.505836Z",
     "shell.execute_reply.started": "2021-11-22T11:20:14.496303Z"
    }
   },
   "outputs": [],
   "source": [
    "param_distributions = {\n",
    "    'eta': optuna.distributions.UniformDistribution(0.01,0.1),\n",
    "    'max_depth': optuna.distributions.IntUniformDistribution(4,10),\n",
    "    'gamma': optuna.distributions.UniformDistribution(0,5),\n",
    "    'n_estimators': optuna.distributions.IntUniformDistribution(150,1500),\n",
    "    'booster': optuna.distributions.CategoricalDistribution(['gbtree', 'dart']),\n",
    "    'pos_weight': optuna.distributions.UniformDistribution(0,pos_weight)\n",
    "}"
   ]
  },
  {
   "cell_type": "code",
   "execution_count": null,
   "metadata": {
    "execution": {
     "iopub.execute_input": "2021-11-22T11:20:14.510294Z",
     "iopub.status.busy": "2021-11-22T11:20:14.509938Z",
     "iopub.status.idle": "2021-11-22T12:18:16.7093Z",
     "shell.execute_reply": "2021-11-22T12:18:16.708512Z",
     "shell.execute_reply.started": "2021-11-22T11:20:14.510265Z"
    }
   },
   "outputs": [],
   "source": [
    "start_time = time.time()\n",
    "\n",
    "\n",
    "xgb_opt_search = optuna.integration.OptunaSearchCV(estimator=xgb_boost,\n",
    "                                               param_distributions = param_distributions,\n",
    "                                               cv=5,\n",
    "                                               n_jobs=-1,\n",
    "                                               n_trials = 10,\n",
    "                                               scoring='roc_auc',\n",
    "                                               verbose=10)\n",
    "\n",
    "xgb_opt_search.fit(X_train, y_train)\n",
    "y_preds = xgb_opt_search.predict_proba(X_val)[:,1]\n",
    "\n",
    "print('\\n','Best Score',xgb_opt_search.best_score_)\n",
    "print('\\n','Best Params',xgb_opt_search.best_estimator_.get_params())\n",
    "print('\\n',roc_auc_score(y_val,y_preds))\n",
    "\n",
    "end_time = time.time()\n",
    "print('\\n',time.strftime(\"%Hh%Mm%Ss\", time.gmtime((end_time-start_time))))"
   ]
  },
  {
   "cell_type": "markdown",
   "metadata": {},
   "source": [
    "# AdaBoost optimization"
   ]
  },
  {
   "cell_type": "markdown",
   "metadata": {},
   "source": [
    "**Optuna SearchCV**"
   ]
  },
  {
   "cell_type": "code",
   "execution_count": null,
   "metadata": {
    "execution": {
     "iopub.execute_input": "2021-11-22T12:18:16.711277Z",
     "iopub.status.busy": "2021-11-22T12:18:16.710754Z",
     "iopub.status.idle": "2021-11-22T12:18:16.718358Z",
     "shell.execute_reply": "2021-11-22T12:18:16.717495Z",
     "shell.execute_reply.started": "2021-11-22T12:18:16.711242Z"
    }
   },
   "outputs": [],
   "source": [
    "param_distributions = {\n",
    "    'base_estimator__criterion': optuna.distributions.CategoricalDistribution(['gini','entropy']),\n",
    "    'base_estimator__max_features':optuna.distributions.CategoricalDistribution(['auto','sqrt','log2']),\n",
    "    'base_estimator__max_depth':optuna.distributions.IntUniformDistribution(4,15),\n",
    "    'n_estimators':optuna.distributions.IntUniformDistribution(150,1500),\n",
    "    'learning_rate':optuna.distributions.UniformDistribution(0.01,0.1)\n",
    "}"
   ]
  },
  {
   "cell_type": "code",
   "execution_count": null,
   "metadata": {
    "execution": {
     "iopub.execute_input": "2021-11-22T12:18:16.720833Z",
     "iopub.status.busy": "2021-11-22T12:18:16.720114Z",
     "iopub.status.idle": "2021-11-22T12:46:57.864771Z",
     "shell.execute_reply": "2021-11-22T12:46:57.863913Z",
     "shell.execute_reply.started": "2021-11-22T12:18:16.720793Z"
    }
   },
   "outputs": [],
   "source": [
    "start_time = time.time()\n",
    "\n",
    "ada_opt_search = optuna.integration.OptunaSearchCV(estimator=ada,\n",
    "                                               param_distributions = param_distributions,\n",
    "                                               cv=5,\n",
    "                                               n_jobs=-1,\n",
    "                                               n_trials = 10,\n",
    "                                               scoring='roc_auc',\n",
    "                                               verbose=10)\n",
    "\n",
    "ada_opt_search.fit(X_train, y_train)\n",
    "y_preds = ada_opt_search.predict_proba(X_val)[:,1]\n",
    "\n",
    "print('\\n','Best Score',ada_opt_search.best_score_)\n",
    "print('\\n','Best Params',ada_opt_search.best_estimator_.get_params())\n",
    "print('\\n',roc_auc_score(y_val,y_preds))\n",
    "\n",
    "end_time = time.time()\n",
    "print('\\n',time.strftime(\"%Hh%Mm%Ss\", time.gmtime((end_time-start_time))))"
   ]
  },
  {
   "cell_type": "markdown",
   "metadata": {},
   "source": [
    "# Random Forest optimization"
   ]
  },
  {
   "cell_type": "markdown",
   "metadata": {},
   "source": [
    "**Optuna SearchCV**"
   ]
  },
  {
   "cell_type": "code",
   "execution_count": null,
   "metadata": {
    "execution": {
     "iopub.execute_input": "2021-11-22T12:46:57.866458Z",
     "iopub.status.busy": "2021-11-22T12:46:57.866088Z",
     "iopub.status.idle": "2021-11-22T12:46:57.873343Z",
     "shell.execute_reply": "2021-11-22T12:46:57.872479Z",
     "shell.execute_reply.started": "2021-11-22T12:46:57.8664Z"
    }
   },
   "outputs": [],
   "source": [
    "param_distributions = {\n",
    "    'criterion': optuna.distributions.CategoricalDistribution(['gini','entropy']),\n",
    "    'max_features':optuna.distributions.CategoricalDistribution(['auto','sqrt','log2']),\n",
    "    'max_depth':optuna.distributions.IntUniformDistribution(4,15),\n",
    "    'n_estimators':optuna.distributions.IntUniformDistribution(150,1500)\n",
    "}"
   ]
  },
  {
   "cell_type": "code",
   "execution_count": null,
   "metadata": {
    "execution": {
     "iopub.execute_input": "2021-11-22T12:46:57.87513Z",
     "iopub.status.busy": "2021-11-22T12:46:57.874634Z",
     "iopub.status.idle": "2021-11-22T13:00:15.750312Z",
     "shell.execute_reply": "2021-11-22T13:00:15.749391Z",
     "shell.execute_reply.started": "2021-11-22T12:46:57.875091Z"
    }
   },
   "outputs": [],
   "source": [
    "start_time = time.time()\n",
    "\n",
    "rf_opt_search = optuna.integration.OptunaSearchCV(estimator=rf,\n",
    "                                               param_distributions = param_distributions,\n",
    "                                               cv=5,\n",
    "                                               n_jobs=-1,\n",
    "                                               n_trials = 10,\n",
    "                                               scoring='roc_auc',\n",
    "                                               verbose=10)\n",
    "\n",
    "rf_opt_search.fit(X_train, y_train)\n",
    "y_preds = rf_opt_search.predict_proba(X_val)[:,1]\n",
    "\n",
    "print('\\n','Best Score',rf_opt_search.best_score_)\n",
    "print('\\n','Best Params',rf_opt_search.best_estimator_.get_params())\n",
    "print('\\n',roc_auc_score(y_val,y_preds))\n",
    "\n",
    "end_time = time.time()\n",
    "print('\\n',time.strftime(\"%Hh%Mm%Ss\", time.gmtime((end_time-start_time))))"
   ]
  },
  {
   "cell_type": "code",
   "execution_count": null,
   "metadata": {
    "execution": {
     "iopub.execute_input": "2021-11-22T13:12:18.258296Z",
     "iopub.status.busy": "2021-11-22T13:12:18.257976Z",
     "iopub.status.idle": "2021-11-22T13:12:18.288763Z",
     "shell.execute_reply": "2021-11-22T13:12:18.287103Z",
     "shell.execute_reply.started": "2021-11-22T13:12:18.258264Z"
    }
   },
   "outputs": [],
   "source": [
    "# Voting\n",
    "start_time = time.time()\n",
    "\n",
    "vote_clf = VotingClassifier(estimators=['xgb',xgb_opt_search,\n",
    "                                        'ada',ada_opt_search,\n",
    "                                        'rf', rf_opt_search],\n",
    "                            voting='soft')\n",
    "\n",
    "vote_clf_fitted = vote_clf.fit(X_train,y_train) # features_final & label here?\n",
    "preds = vote_clf_fitted.predict_proba(featurez_final)[:,1].reshape(featurez_final.shape[0],1)\n",
    "\n",
    "\n",
    "\n",
    "\n",
    "\n",
    "\n",
    "\n",
    "end_time = time.time()\n",
    "print('\\n',time.strftime(\"%Hh%Mm%Ss\", time.gmtime((end_time-start_time))))"
   ]
  },
  {
   "cell_type": "code",
   "execution_count": null,
   "metadata": {
    "execution": {
     "iopub.status.busy": "2021-11-22T13:00:15.768891Z",
     "iopub.status.idle": "2021-11-22T13:00:15.769668Z"
    }
   },
   "outputs": [],
   "source": [
    "# Overall time = \n",
    "\n",
    "END = time.time()\n",
    "print('\\n',time.strftime(\"%Hh%Mm%Ss\", time.gmtime((END-START))))"
   ]
  },
  {
   "cell_type": "code",
   "execution_count": null,
   "metadata": {},
   "outputs": [],
   "source": []
  },
  {
   "cell_type": "code",
   "execution_count": null,
   "metadata": {},
   "outputs": [],
   "source": []
  }
 ],
 "metadata": {
  "kernelspec": {
   "display_name": "Python 3",
   "language": "python",
   "name": "python3"
  },
  "language_info": {
   "codemirror_mode": {
    "name": "ipython",
    "version": 3
   },
   "file_extension": ".py",
   "mimetype": "text/x-python",
   "name": "python",
   "nbconvert_exporter": "python",
   "pygments_lexer": "ipython3",
   "version": "3.8.8"
  }
 },
 "nbformat": 4,
 "nbformat_minor": 4
}
